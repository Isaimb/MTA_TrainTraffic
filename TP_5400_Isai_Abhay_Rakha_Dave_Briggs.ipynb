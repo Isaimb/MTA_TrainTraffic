{
 "cells": [
  {
   "cell_type": "code",
   "execution_count": 1,
   "id": "36296e28-a26b-4864-a54d-0ff5b157ebbb",
   "metadata": {
    "tags": []
   },
   "outputs": [
    {
     "name": "stdout",
     "output_type": "stream",
     "text": [
      "Requirement already satisfied: sodapy in /Users/isaibala/anaconda3/lib/python3.11/site-packages (2.2.0)\n",
      "Requirement already satisfied: requests>=2.28.1 in /Users/isaibala/anaconda3/lib/python3.11/site-packages (from sodapy) (2.31.0)\n",
      "Requirement already satisfied: charset-normalizer<4,>=2 in /Users/isaibala/anaconda3/lib/python3.11/site-packages (from requests>=2.28.1->sodapy) (2.0.4)\n",
      "Requirement already satisfied: idna<4,>=2.5 in /Users/isaibala/anaconda3/lib/python3.11/site-packages (from requests>=2.28.1->sodapy) (3.4)\n",
      "Requirement already satisfied: urllib3<3,>=1.21.1 in /Users/isaibala/anaconda3/lib/python3.11/site-packages (from requests>=2.28.1->sodapy) (1.26.16)\n",
      "Requirement already satisfied: certifi>=2017.4.17 in /Users/isaibala/anaconda3/lib/python3.11/site-packages (from requests>=2.28.1->sodapy) (2023.7.22)\n",
      "Requirement already satisfied: pymongo in /Users/isaibala/anaconda3/lib/python3.11/site-packages (4.6.3)\n",
      "Requirement already satisfied: dnspython<3.0.0,>=1.16.0 in /Users/isaibala/anaconda3/lib/python3.11/site-packages (from pymongo) (2.6.1)\n",
      "Requirement already satisfied: flask in /Users/isaibala/anaconda3/lib/python3.11/site-packages (3.0.3)\n",
      "Requirement already satisfied: Werkzeug>=3.0.0 in /Users/isaibala/anaconda3/lib/python3.11/site-packages (from flask) (3.0.1)\n",
      "Requirement already satisfied: Jinja2>=3.1.2 in /Users/isaibala/anaconda3/lib/python3.11/site-packages (from flask) (3.1.2)\n",
      "Requirement already satisfied: itsdangerous>=2.1.2 in /Users/isaibala/anaconda3/lib/python3.11/site-packages (from flask) (2.1.2)\n",
      "Requirement already satisfied: click>=8.1.3 in /Users/isaibala/anaconda3/lib/python3.11/site-packages (from flask) (8.1.7)\n",
      "Requirement already satisfied: blinker>=1.6.2 in /Users/isaibala/anaconda3/lib/python3.11/site-packages (from flask) (1.7.0)\n",
      "Requirement already satisfied: MarkupSafe>=2.0 in /Users/isaibala/anaconda3/lib/python3.11/site-packages (from Jinja2>=3.1.2->flask) (2.1.1)\n",
      "Requirement already satisfied: tomlkit in /Users/isaibala/anaconda3/lib/python3.11/site-packages (0.11.1)\n",
      "Requirement already satisfied: pyspark in /Users/isaibala/anaconda3/lib/python3.11/site-packages (3.5.1)\n",
      "Requirement already satisfied: py4j==0.10.9.7 in /Users/isaibala/anaconda3/lib/python3.11/site-packages (from pyspark) (0.10.9.7)\n"
     ]
    }
   ],
   "source": [
    "#We install all of the packages necessary\n",
    "#Sodapy is for Socrata\n",
    "!pip3 install sodapy\n",
    "!pip3 install -U pymongo\n",
    "!pip install -U flask\n",
    "!pip3 install tomlkit\n",
    "!pip install -U pyspark"
   ]
  },
  {
   "cell_type": "code",
   "execution_count": 2,
   "id": "30ca07aa-2d8a-4d65-bbe4-d130f5045103",
   "metadata": {
    "tags": []
   },
   "outputs": [],
   "source": [
    "#We import the basic packages to read dataframe, API, Json files, and MongoDB\n",
    "import pandas as pd\n",
    "from sodapy import Socrata\n",
    "import json \n",
    "from json import loads\n",
    "from pymongo import MongoClient\n",
    "from flask import Flask, request, render_template"
   ]
  },
  {
   "cell_type": "code",
   "execution_count": 3,
   "id": "7a49d825-b057-442b-adbb-2892053fa6c3",
   "metadata": {
    "tags": []
   },
   "outputs": [
    {
     "data": {
      "text/plain": [
       "Collection(Database(MongoClient(host=['localhost:27017'], document_class=dict, tz_aware=False, connect=True), 'TermProject'), 'test_collection')"
      ]
     },
     "execution_count": 3,
     "metadata": {},
     "output_type": "execute_result"
    }
   ],
   "source": [
    "#We start and run MongoDB, we call our database TermProject\n",
    "client1 = MongoClient('localhost',27017)\n",
    "dbb = client1.TermProject\n",
    "collection = dbb.test_collection\n",
    "collection"
   ]
  },
  {
   "cell_type": "code",
   "execution_count": 71,
   "id": "151d0e11-e0f0-4029-9290-137b14fb3681",
   "metadata": {
    "tags": []
   },
   "outputs": [
    {
     "name": "stderr",
     "output_type": "stream",
     "text": [
      "WARNING:root:Requests made without an app_token will be subject to strict throttling limits.\n"
     ]
    }
   ],
   "source": [
    "#This extracts the host server, which is the NYS Governmental Website\n",
    "client = Socrata(\"data.ny.gov\", None)"
   ]
  },
  {
   "cell_type": "markdown",
   "id": "34892e18-fa5e-477c-aa18-2720b307a18d",
   "metadata": {},
   "source": [
    "Above, we install and import our packages, and run MongoDB. This is the start of our project."
   ]
  },
  {
   "cell_type": "code",
   "execution_count": 70,
   "id": "45a397a0-8673-4ee3-8bd6-38fe0a2ec07b",
   "metadata": {
    "tags": []
   },
   "outputs": [],
   "source": [
    "start_date = '2023-03-01'\n",
    "end_date = '2023-03-31'\n",
    "rider = client.get(\"wujg-7c2s\", where=f\"transit_timestamp >= '{start_date}' AND transit_timestamp <= '{end_date}'\",limit=2500000)"
   ]
  },
  {
   "cell_type": "markdown",
   "id": "d98ff05d-25ac-4585-9335-b63fdbfa5d42",
   "metadata": {},
   "source": [
    "Above, we request to retrieve data from NY's dataset identified by the API ID \"wujg-7c2s\" within March 2023. The request is filtered to include only records with a \"transit_timestamp\". The limit parameter is set to 2,500,000 rows. This is how we acquire all 4 of our datasets"
   ]
  },
  {
   "cell_type": "code",
   "execution_count": 6,
   "id": "079b24ab-0cfb-4f80-b27e-006a6ebfb0b3",
   "metadata": {
    "tags": []
   },
   "outputs": [],
   "source": [
    "#Convert into dataframe using PD\n",
    "ridership = pd.DataFrame.from_records(rider)\n",
    "ridership[['Date', 'Time']] = ridership['transit_timestamp'].str.split('T', expand=True)\n",
    "\n",
    "#We split the data and time using str.split, then we extract the day and print a new column that indicates weekday or weekend.\n",
    "from datetime import datetime\n",
    "def day_type(date_str):\n",
    "    day = int(date_str.split('-')[2])\n",
    "    if (day + 4) % 7 < 5:\n",
    "        return 1\n",
    "    else:\n",
    "        return 2\n",
    "\n",
    "ridership['day_type'] = ridership['Date'].apply(lambda x: day_type(x))"
   ]
  },
  {
   "cell_type": "code",
   "execution_count": 7,
   "id": "372528a5-6d47-4303-847d-a8d5a0cca4c5",
   "metadata": {
    "collapsed": true,
    "jupyter": {
     "outputs_hidden": true
    },
    "tags": []
   },
   "outputs": [
    {
     "data": {
      "text/plain": [
       "array(['28', '280', '282', '283', '284', '286', '287', '288', '289',\n",
       "       '290', '190', '291', '292', '293', '294', '295', '296', '297',\n",
       "       '298', '299', '3', '30', '300', '301', '303', '304', '305', '306',\n",
       "       '307', '308', '309', '31', '310', '311', '312', '313', '314',\n",
       "       '318', '316', '319', '32', '320', '321', '323', '324', '325',\n",
       "       '326', '327', '328', '329', '33', '333', '334', '153', '336',\n",
       "       '337', '339', '34', '340', '341', '343', '344', '345', '346',\n",
       "       '347', '348', '349', '35', '350', '351', '352', '353', '354',\n",
       "       '355', '356', '357', '358', '359', '36', '360', '361', '362',\n",
       "       '363', '364', '365', '366', '367', '368', '369', '37', '370',\n",
       "       '371', '372', '373', '374', '375', '376', '377', '378', '379',\n",
       "       '38', '380', '381', '382', '383', '384', '385', '386', '387',\n",
       "       '388', '39', '391', '392', '393', '394', '395', '396', '397',\n",
       "       '398', '399', '4', '403', '404', '405', '407', '409', '41', '413',\n",
       "       '414', '416', '417', '418', '419', '42', '420', '421', '422',\n",
       "       '423', '424', '425', '426', '427', '428', '429', '43', '430',\n",
       "       '431', '432', '433', '434', '436', '437', '438', '439', '44',\n",
       "       '440', '441', '442', '444', '447', '448', '449', '45', '450',\n",
       "       '451', '452', '453', '455', '456', '457', '458', '459', '46',\n",
       "       '460', '461', '463', '464', '47', '471', '475', '476', '477', '48',\n",
       "       '49', '5', '50', '501', '502', '51', '52', '53', '54', '55', '56',\n",
       "       '57', '58', '59', '6', '60', '601', '602', '603', '604', '605',\n",
       "       '606', '607', '608', '609', '61', '610', '611', '612', '613',\n",
       "       '614', '615', '616', '617', '618', '619', '62', '620', '621',\n",
       "       '622', '623', '624', '625', '626', '627', '628', '629', '630',\n",
       "       '635', '636', '64', '65', '66', '67', '68', '69', '70', '71', '72',\n",
       "       '74', '75', '76', '77', '78', '8', '79', '80', '81', '82', '83',\n",
       "       '84', '85', '86', '87', '88', '89', '9', '90', '91', '93', '94',\n",
       "       '95', '96', '97', '98', '99', '1', '10', '100', '101', '103',\n",
       "       '107', '108', '109', '110', '111', '113', '114', '118', '119',\n",
       "       '120', '122', '123', '124', '125', '126', '127', '129', '13',\n",
       "       '130', '131', '133', '134', '135', '136', '137', '138', '14',\n",
       "       '141', '143', '144', '145', '146', '147', '149', '150', '151',\n",
       "       '152', '154', '155', '156', '157', '158', '159', '16', '160',\n",
       "       '162', '164', '165', '167', '168', '169', '17', '173', '175',\n",
       "       '176', '177', '179', '180', '181', '182', '183', '185', '186',\n",
       "       '187', '188', '189', '191', '192', '193', '194', '195', '196',\n",
       "       '197', '198', '2', '20', '200', '202', '201', '203', '204', '205',\n",
       "       '206', '207', '208', '209', '210', '211', '212', '213', '214',\n",
       "       '215', '216', '217', '218', '22', '220', '221', '222', '223',\n",
       "       '224', '225', '228', '231', '232', '234', '235', '236', '237',\n",
       "       '238', '240', '241', '242', '243', '244', '245', '246', '247',\n",
       "       '248', '249', '250', '251', '252', '254', '255', '256', '257',\n",
       "       '258', '259', '26', '260', '261', '262', '263', '264', '265',\n",
       "       '266', '270', '271', '273', '277', '278', '279', '446', '199',\n",
       "       '253', '443', '445', '269', '268', '272', '276'], dtype=object)"
      ]
     },
     "execution_count": 7,
     "metadata": {},
     "output_type": "execute_result"
    }
   ],
   "source": [
    "ridership = ridership[~ridership['station_complex_id'].str.contains('TRAM')]\n",
    "ridership.station_complex_id.unique()"
   ]
  },
  {
   "cell_type": "code",
   "execution_count": 8,
   "id": "fcdd4dc6-4f6f-4eb7-a124-402e02e76013",
   "metadata": {
    "tags": []
   },
   "outputs": [
    {
     "data": {
      "text/plain": [
       "transit_timestamp       object\n",
       "transit_mode            object\n",
       "station_complex_id      object\n",
       "station_complex         object\n",
       "borough                 object\n",
       "payment_method          object\n",
       "fare_class_category     object\n",
       "ridership               object\n",
       "transfers               object\n",
       "latitude               float64\n",
       "longitude              float64\n",
       "georeference            object\n",
       "Date                    object\n",
       "Time                    object\n",
       "day_type                 int64\n",
       "dtype: object"
      ]
     },
     "execution_count": 8,
     "metadata": {},
     "output_type": "execute_result"
    }
   ],
   "source": [
    "ridership[['latitude','longitude']] = ridership[['latitude','longitude']].astype(float)\n",
    "ridership.dtypes"
   ]
  },
  {
   "cell_type": "markdown",
   "id": "12dc9569-ad5a-4923-8ff3-948f432b2bb9",
   "metadata": {},
   "source": [
    "These 3 cells above are pre-processing the dataset. We separate time_stampe into Date and Time. We remove any Station_Complex_ID that has 'TRAM' to remove the Roosevelt Island Tram. We convert coordinates into float and day_type into integer. We set the Day_type to 1 (weekday) and 2(weekend) as the rest of the datasets used only use day types."
   ]
  },
  {
   "cell_type": "code",
   "execution_count": 9,
   "id": "081797b8-6b24-4d51-bb08-4581d921ca80",
   "metadata": {
    "tags": []
   },
   "outputs": [
    {
     "name": "stdout",
     "output_type": "stream",
     "text": [
      "2100300 documents inserted into MongoDB successfully.\n"
     ]
    }
   ],
   "source": [
    "rider_json = ridership.to_json(orient='records')\n",
    "rider_json = json.loads(rider_json)\n",
    "collection = dbb.rider_json\n",
    "collection.insert_many(rider_json)\n",
    "\n",
    "print(f\"{len(rider_json)} documents inserted into MongoDB successfully.\")"
   ]
  },
  {
   "cell_type": "markdown",
   "id": "3ef9f06c-bde7-4a56-a40b-4096acf095f6",
   "metadata": {},
   "source": [
    "#### Q2: Which Stations Needs Accesibility Ramps/Elevators (ADA)?"
   ]
  },
  {
   "cell_type": "markdown",
   "id": "881112cf-2e7a-492d-975d-1cb6ef637ed6",
   "metadata": {},
   "source": [
    "This next Question Helps us understand which stations need ADA (Elevators/Ramps) based on Seniors & Disability Fares."
   ]
  },
  {
   "cell_type": "code",
   "execution_count": 33,
   "id": "7bafe2fd-a30c-49e5-9422-5d4ec1cad865",
   "metadata": {
    "tags": []
   },
   "outputs": [
    {
     "data": {
      "text/html": [
       "<div>\n",
       "<style scoped>\n",
       "    .dataframe tbody tr th:only-of-type {\n",
       "        vertical-align: middle;\n",
       "    }\n",
       "\n",
       "    .dataframe tbody tr th {\n",
       "        vertical-align: top;\n",
       "    }\n",
       "\n",
       "    .dataframe thead th {\n",
       "        text-align: right;\n",
       "    }\n",
       "</style>\n",
       "<table border=\"1\" class=\"dataframe\">\n",
       "  <thead>\n",
       "    <tr style=\"text-align: right;\">\n",
       "      <th></th>\n",
       "      <th>stop_id</th>\n",
       "      <th>station_id</th>\n",
       "      <th>complex_id</th>\n",
       "      <th>division</th>\n",
       "      <th>line</th>\n",
       "      <th>stop_name</th>\n",
       "      <th>borough</th>\n",
       "      <th>daytime_routes</th>\n",
       "      <th>structure</th>\n",
       "      <th>latitude</th>\n",
       "      <th>longitude</th>\n",
       "      <th>north_direction_label</th>\n",
       "      <th>south_direction_label</th>\n",
       "      <th>ada</th>\n",
       "      <th>ada_northbound</th>\n",
       "      <th>ada_southbound</th>\n",
       "      <th>station_complex_id</th>\n",
       "    </tr>\n",
       "  </thead>\n",
       "  <tbody>\n",
       "    <tr>\n",
       "      <th>0</th>\n",
       "      <td>R01</td>\n",
       "      <td>1</td>\n",
       "      <td>1</td>\n",
       "      <td>BMT</td>\n",
       "      <td>Astoria</td>\n",
       "      <td>Astoria-Ditmars Blvd</td>\n",
       "      <td>Q</td>\n",
       "      <td>N W</td>\n",
       "      <td>Elevated</td>\n",
       "      <td>40.775036</td>\n",
       "      <td>-73.912034</td>\n",
       "      <td>Last Stop</td>\n",
       "      <td>Manhattan</td>\n",
       "      <td>0</td>\n",
       "      <td>0</td>\n",
       "      <td>0</td>\n",
       "      <td>1</td>\n",
       "    </tr>\n",
       "    <tr>\n",
       "      <th>1</th>\n",
       "      <td>R03</td>\n",
       "      <td>2</td>\n",
       "      <td>2</td>\n",
       "      <td>BMT</td>\n",
       "      <td>Astoria</td>\n",
       "      <td>Astoria Blvd</td>\n",
       "      <td>Q</td>\n",
       "      <td>N W</td>\n",
       "      <td>Elevated</td>\n",
       "      <td>40.770258</td>\n",
       "      <td>-73.917843</td>\n",
       "      <td>Astoria</td>\n",
       "      <td>Manhattan</td>\n",
       "      <td>1</td>\n",
       "      <td>1</td>\n",
       "      <td>1</td>\n",
       "      <td>2</td>\n",
       "    </tr>\n",
       "    <tr>\n",
       "      <th>2</th>\n",
       "      <td>R04</td>\n",
       "      <td>3</td>\n",
       "      <td>3</td>\n",
       "      <td>BMT</td>\n",
       "      <td>Astoria</td>\n",
       "      <td>30 Av</td>\n",
       "      <td>Q</td>\n",
       "      <td>N W</td>\n",
       "      <td>Elevated</td>\n",
       "      <td>40.766779</td>\n",
       "      <td>-73.921479</td>\n",
       "      <td>Astoria</td>\n",
       "      <td>Manhattan</td>\n",
       "      <td>0</td>\n",
       "      <td>0</td>\n",
       "      <td>0</td>\n",
       "      <td>3</td>\n",
       "    </tr>\n",
       "    <tr>\n",
       "      <th>3</th>\n",
       "      <td>R05</td>\n",
       "      <td>4</td>\n",
       "      <td>4</td>\n",
       "      <td>BMT</td>\n",
       "      <td>Astoria</td>\n",
       "      <td>Broadway</td>\n",
       "      <td>Q</td>\n",
       "      <td>N W</td>\n",
       "      <td>Elevated</td>\n",
       "      <td>40.761820</td>\n",
       "      <td>-73.925508</td>\n",
       "      <td>Astoria</td>\n",
       "      <td>Manhattan</td>\n",
       "      <td>0</td>\n",
       "      <td>0</td>\n",
       "      <td>0</td>\n",
       "      <td>4</td>\n",
       "    </tr>\n",
       "    <tr>\n",
       "      <th>4</th>\n",
       "      <td>R06</td>\n",
       "      <td>5</td>\n",
       "      <td>5</td>\n",
       "      <td>BMT</td>\n",
       "      <td>Astoria</td>\n",
       "      <td>36 Av</td>\n",
       "      <td>Q</td>\n",
       "      <td>N W</td>\n",
       "      <td>Elevated</td>\n",
       "      <td>40.756804</td>\n",
       "      <td>-73.929575</td>\n",
       "      <td>Astoria</td>\n",
       "      <td>Manhattan</td>\n",
       "      <td>0</td>\n",
       "      <td>0</td>\n",
       "      <td>0</td>\n",
       "      <td>5</td>\n",
       "    </tr>\n",
       "    <tr>\n",
       "      <th>...</th>\n",
       "      <td>...</td>\n",
       "      <td>...</td>\n",
       "      <td>...</td>\n",
       "      <td>...</td>\n",
       "      <td>...</td>\n",
       "      <td>...</td>\n",
       "      <td>...</td>\n",
       "      <td>...</td>\n",
       "      <td>...</td>\n",
       "      <td>...</td>\n",
       "      <td>...</td>\n",
       "      <td>...</td>\n",
       "      <td>...</td>\n",
       "      <td>...</td>\n",
       "      <td>...</td>\n",
       "      <td>...</td>\n",
       "      <td>...</td>\n",
       "    </tr>\n",
       "    <tr>\n",
       "      <th>491</th>\n",
       "      <td>S15</td>\n",
       "      <td>517</td>\n",
       "      <td>517</td>\n",
       "      <td>SIR</td>\n",
       "      <td>Staten Island</td>\n",
       "      <td>Prince's Bay</td>\n",
       "      <td>SI</td>\n",
       "      <td>SIR</td>\n",
       "      <td>Open Cut</td>\n",
       "      <td>40.525507</td>\n",
       "      <td>-74.200064</td>\n",
       "      <td>Ferry</td>\n",
       "      <td>South Shore</td>\n",
       "      <td>0</td>\n",
       "      <td>0</td>\n",
       "      <td>0</td>\n",
       "      <td>517</td>\n",
       "    </tr>\n",
       "    <tr>\n",
       "      <th>492</th>\n",
       "      <td>S14</td>\n",
       "      <td>518</td>\n",
       "      <td>518</td>\n",
       "      <td>SIR</td>\n",
       "      <td>Staten Island</td>\n",
       "      <td>Pleasant Plains</td>\n",
       "      <td>SI</td>\n",
       "      <td>SIR</td>\n",
       "      <td>Embankment</td>\n",
       "      <td>40.522410</td>\n",
       "      <td>-74.217847</td>\n",
       "      <td>Ferry</td>\n",
       "      <td>South Shore</td>\n",
       "      <td>0</td>\n",
       "      <td>0</td>\n",
       "      <td>0</td>\n",
       "      <td>518</td>\n",
       "    </tr>\n",
       "    <tr>\n",
       "      <th>493</th>\n",
       "      <td>S13</td>\n",
       "      <td>519</td>\n",
       "      <td>519</td>\n",
       "      <td>SIR</td>\n",
       "      <td>Staten Island</td>\n",
       "      <td>Richmond Valley</td>\n",
       "      <td>SI</td>\n",
       "      <td>SIR</td>\n",
       "      <td>Open Cut</td>\n",
       "      <td>40.519631</td>\n",
       "      <td>-74.229141</td>\n",
       "      <td>Ferry</td>\n",
       "      <td>Tottenville</td>\n",
       "      <td>0</td>\n",
       "      <td>0</td>\n",
       "      <td>0</td>\n",
       "      <td>519</td>\n",
       "    </tr>\n",
       "    <tr>\n",
       "      <th>494</th>\n",
       "      <td>S09</td>\n",
       "      <td>522</td>\n",
       "      <td>522</td>\n",
       "      <td>SIR</td>\n",
       "      <td>Staten Island</td>\n",
       "      <td>Tottenville</td>\n",
       "      <td>SI</td>\n",
       "      <td>SIR</td>\n",
       "      <td>At Grade</td>\n",
       "      <td>40.512764</td>\n",
       "      <td>-74.251961</td>\n",
       "      <td>Ferry</td>\n",
       "      <td>Last Stop</td>\n",
       "      <td>1</td>\n",
       "      <td>1</td>\n",
       "      <td>1</td>\n",
       "      <td>522</td>\n",
       "    </tr>\n",
       "    <tr>\n",
       "      <th>495</th>\n",
       "      <td>S11</td>\n",
       "      <td>523</td>\n",
       "      <td>523</td>\n",
       "      <td>SIR</td>\n",
       "      <td>Staten Island</td>\n",
       "      <td>Arthur Kill</td>\n",
       "      <td>SI</td>\n",
       "      <td>SIR</td>\n",
       "      <td>At Grade</td>\n",
       "      <td>40.516578</td>\n",
       "      <td>-74.242096</td>\n",
       "      <td>Ferry</td>\n",
       "      <td>Tottenville</td>\n",
       "      <td>1</td>\n",
       "      <td>1</td>\n",
       "      <td>1</td>\n",
       "      <td>523</td>\n",
       "    </tr>\n",
       "  </tbody>\n",
       "</table>\n",
       "<p>496 rows × 17 columns</p>\n",
       "</div>"
      ],
      "text/plain": [
       "    stop_id station_id complex_id division           line  \\\n",
       "0       R01          1          1      BMT        Astoria   \n",
       "1       R03          2          2      BMT        Astoria   \n",
       "2       R04          3          3      BMT        Astoria   \n",
       "3       R05          4          4      BMT        Astoria   \n",
       "4       R06          5          5      BMT        Astoria   \n",
       "..      ...        ...        ...      ...            ...   \n",
       "491     S15        517        517      SIR  Staten Island   \n",
       "492     S14        518        518      SIR  Staten Island   \n",
       "493     S13        519        519      SIR  Staten Island   \n",
       "494     S09        522        522      SIR  Staten Island   \n",
       "495     S11        523        523      SIR  Staten Island   \n",
       "\n",
       "                stop_name borough daytime_routes   structure   latitude  \\\n",
       "0    Astoria-Ditmars Blvd       Q            N W    Elevated  40.775036   \n",
       "1            Astoria Blvd       Q            N W    Elevated  40.770258   \n",
       "2                   30 Av       Q            N W    Elevated  40.766779   \n",
       "3                Broadway       Q            N W    Elevated  40.761820   \n",
       "4                   36 Av       Q            N W    Elevated  40.756804   \n",
       "..                    ...     ...            ...         ...        ...   \n",
       "491          Prince's Bay      SI            SIR    Open Cut  40.525507   \n",
       "492       Pleasant Plains      SI            SIR  Embankment  40.522410   \n",
       "493       Richmond Valley      SI            SIR    Open Cut  40.519631   \n",
       "494           Tottenville      SI            SIR    At Grade  40.512764   \n",
       "495           Arthur Kill      SI            SIR    At Grade  40.516578   \n",
       "\n",
       "     longitude north_direction_label south_direction_label ada ada_northbound  \\\n",
       "0   -73.912034             Last Stop             Manhattan   0              0   \n",
       "1   -73.917843               Astoria             Manhattan   1              1   \n",
       "2   -73.921479               Astoria             Manhattan   0              0   \n",
       "3   -73.925508               Astoria             Manhattan   0              0   \n",
       "4   -73.929575               Astoria             Manhattan   0              0   \n",
       "..         ...                   ...                   ...  ..            ...   \n",
       "491 -74.200064                 Ferry           South Shore   0              0   \n",
       "492 -74.217847                 Ferry           South Shore   0              0   \n",
       "493 -74.229141                 Ferry           Tottenville   0              0   \n",
       "494 -74.251961                 Ferry             Last Stop   1              1   \n",
       "495 -74.242096                 Ferry           Tottenville   1              1   \n",
       "\n",
       "    ada_southbound station_complex_id  \n",
       "0                0                  1  \n",
       "1                1                  2  \n",
       "2                0                  3  \n",
       "3                0                  4  \n",
       "4                0                  5  \n",
       "..             ...                ...  \n",
       "491              0                517  \n",
       "492              0                518  \n",
       "493              0                519  \n",
       "494              1                522  \n",
       "495              1                523  \n",
       "\n",
       "[496 rows x 17 columns]"
      ]
     },
     "execution_count": 33,
     "metadata": {},
     "output_type": "execute_result"
    }
   ],
   "source": [
    "# Fetch station data from the client's specified API ID\n",
    "station = client.get(\"39hk-dx4f\", limit=500)\n",
    "# Convert the station data to a PD\n",
    "station = pd.DataFrame.from_records(station)\n",
    "# Remove the last 5 columns from the DataFrame since its TRAMS and Staten Island\n",
    "station = station.iloc[:, :-5]\n",
    "# Rename columns 'gtfs_stop_id' to 'stop_id', 'gtfs_latitude' to 'latitude', and 'gtfs_longitude' to 'longitude'\n",
    "station.rename(columns={'gtfs_stop_id': 'stop_id', 'gtfs_latitude': 'latitude', 'gtfs_longitude': 'longitude'}, inplace=True)\n",
    "# Create a new column 'station_complex_id' and assign it the values from the 'complex_id' column (similar to ridership)\n",
    "station['station_complex_id'] = station['complex_id']\n",
    "# Convert the 'latitude' and 'longitude' columns to float data type\n",
    "station[['latitude', 'longitude']] = station[['latitude', 'longitude']].astype(float)\n",
    "station"
   ]
  },
  {
   "cell_type": "code",
   "execution_count": 34,
   "id": "fb251775-4525-482b-ba4f-c0f03724cf4d",
   "metadata": {
    "tags": []
   },
   "outputs": [
    {
     "data": {
      "text/html": [
       "<div>\n",
       "<style scoped>\n",
       "    .dataframe tbody tr th:only-of-type {\n",
       "        vertical-align: middle;\n",
       "    }\n",
       "\n",
       "    .dataframe tbody tr th {\n",
       "        vertical-align: top;\n",
       "    }\n",
       "\n",
       "    .dataframe thead th {\n",
       "        text-align: right;\n",
       "    }\n",
       "</style>\n",
       "<table border=\"1\" class=\"dataframe\">\n",
       "  <thead>\n",
       "    <tr style=\"text-align: right;\">\n",
       "      <th></th>\n",
       "      <th>transit_timestamp</th>\n",
       "      <th>transit_mode</th>\n",
       "      <th>station_complex_id</th>\n",
       "      <th>station_complex</th>\n",
       "      <th>borough</th>\n",
       "      <th>payment_method</th>\n",
       "      <th>fare_class_category</th>\n",
       "      <th>ridership</th>\n",
       "      <th>transfers</th>\n",
       "      <th>latitude</th>\n",
       "      <th>longitude</th>\n",
       "      <th>georeference</th>\n",
       "      <th>Date</th>\n",
       "      <th>Time</th>\n",
       "      <th>day_type</th>\n",
       "      <th>ada</th>\n",
       "    </tr>\n",
       "  </thead>\n",
       "  <tbody>\n",
       "    <tr>\n",
       "      <th>0</th>\n",
       "      <td>2023-03-01T00:00:00.000</td>\n",
       "      <td>subway</td>\n",
       "      <td>28</td>\n",
       "      <td>Union St (R)</td>\n",
       "      <td>Brooklyn</td>\n",
       "      <td>metrocard</td>\n",
       "      <td>Metrocard - Other</td>\n",
       "      <td>3.0</td>\n",
       "      <td>0.0</td>\n",
       "      <td>40.677315</td>\n",
       "      <td>-73.983109</td>\n",
       "      <td>{'type': 'Point', 'coordinates': [-73.98310852...</td>\n",
       "      <td>2023-03-01</td>\n",
       "      <td>00:00:00.000</td>\n",
       "      <td>2</td>\n",
       "      <td>0</td>\n",
       "    </tr>\n",
       "    <tr>\n",
       "      <th>1</th>\n",
       "      <td>2023-03-01T00:00:00.000</td>\n",
       "      <td>subway</td>\n",
       "      <td>28</td>\n",
       "      <td>Union St (R)</td>\n",
       "      <td>Brooklyn</td>\n",
       "      <td>metrocard</td>\n",
       "      <td>Metrocard - Unlimited 7-Day</td>\n",
       "      <td>7.0</td>\n",
       "      <td>0.0</td>\n",
       "      <td>40.677315</td>\n",
       "      <td>-73.983109</td>\n",
       "      <td>{'type': 'Point', 'coordinates': [-73.98310852...</td>\n",
       "      <td>2023-03-01</td>\n",
       "      <td>00:00:00.000</td>\n",
       "      <td>2</td>\n",
       "      <td>0</td>\n",
       "    </tr>\n",
       "    <tr>\n",
       "      <th>2</th>\n",
       "      <td>2023-03-01T00:00:00.000</td>\n",
       "      <td>subway</td>\n",
       "      <td>28</td>\n",
       "      <td>Union St (R)</td>\n",
       "      <td>Brooklyn</td>\n",
       "      <td>metrocard</td>\n",
       "      <td>Metrocard - Unlimited 30-Day</td>\n",
       "      <td>2.0</td>\n",
       "      <td>0.0</td>\n",
       "      <td>40.677315</td>\n",
       "      <td>-73.983109</td>\n",
       "      <td>{'type': 'Point', 'coordinates': [-73.98310852...</td>\n",
       "      <td>2023-03-01</td>\n",
       "      <td>00:00:00.000</td>\n",
       "      <td>2</td>\n",
       "      <td>0</td>\n",
       "    </tr>\n",
       "    <tr>\n",
       "      <th>3</th>\n",
       "      <td>2023-03-01T00:00:00.000</td>\n",
       "      <td>subway</td>\n",
       "      <td>28</td>\n",
       "      <td>Union St (R)</td>\n",
       "      <td>Brooklyn</td>\n",
       "      <td>omny</td>\n",
       "      <td>OMNY - Full Fare</td>\n",
       "      <td>10.0</td>\n",
       "      <td>0.0</td>\n",
       "      <td>40.677315</td>\n",
       "      <td>-73.983109</td>\n",
       "      <td>{'type': 'Point', 'coordinates': [-73.98310852...</td>\n",
       "      <td>2023-03-01</td>\n",
       "      <td>00:00:00.000</td>\n",
       "      <td>2</td>\n",
       "      <td>0</td>\n",
       "    </tr>\n",
       "    <tr>\n",
       "      <th>4</th>\n",
       "      <td>2023-03-01T01:00:00.000</td>\n",
       "      <td>subway</td>\n",
       "      <td>28</td>\n",
       "      <td>Union St (R)</td>\n",
       "      <td>Brooklyn</td>\n",
       "      <td>metrocard</td>\n",
       "      <td>Metrocard - Other</td>\n",
       "      <td>1.0</td>\n",
       "      <td>0.0</td>\n",
       "      <td>40.677315</td>\n",
       "      <td>-73.983109</td>\n",
       "      <td>{'type': 'Point', 'coordinates': [-73.98310852...</td>\n",
       "      <td>2023-03-01</td>\n",
       "      <td>01:00:00.000</td>\n",
       "      <td>2</td>\n",
       "      <td>0</td>\n",
       "    </tr>\n",
       "  </tbody>\n",
       "</table>\n",
       "</div>"
      ],
      "text/plain": [
       "         transit_timestamp transit_mode station_complex_id station_complex  \\\n",
       "0  2023-03-01T00:00:00.000       subway                 28    Union St (R)   \n",
       "1  2023-03-01T00:00:00.000       subway                 28    Union St (R)   \n",
       "2  2023-03-01T00:00:00.000       subway                 28    Union St (R)   \n",
       "3  2023-03-01T00:00:00.000       subway                 28    Union St (R)   \n",
       "4  2023-03-01T01:00:00.000       subway                 28    Union St (R)   \n",
       "\n",
       "    borough payment_method           fare_class_category ridership transfers  \\\n",
       "0  Brooklyn      metrocard             Metrocard - Other       3.0       0.0   \n",
       "1  Brooklyn      metrocard   Metrocard - Unlimited 7-Day       7.0       0.0   \n",
       "2  Brooklyn      metrocard  Metrocard - Unlimited 30-Day       2.0       0.0   \n",
       "3  Brooklyn           omny              OMNY - Full Fare      10.0       0.0   \n",
       "4  Brooklyn      metrocard             Metrocard - Other       1.0       0.0   \n",
       "\n",
       "    latitude  longitude                                       georeference  \\\n",
       "0  40.677315 -73.983109  {'type': 'Point', 'coordinates': [-73.98310852...   \n",
       "1  40.677315 -73.983109  {'type': 'Point', 'coordinates': [-73.98310852...   \n",
       "2  40.677315 -73.983109  {'type': 'Point', 'coordinates': [-73.98310852...   \n",
       "3  40.677315 -73.983109  {'type': 'Point', 'coordinates': [-73.98310852...   \n",
       "4  40.677315 -73.983109  {'type': 'Point', 'coordinates': [-73.98310852...   \n",
       "\n",
       "         Date          Time  day_type ada  \n",
       "0  2023-03-01  00:00:00.000         2   0  \n",
       "1  2023-03-01  00:00:00.000         2   0  \n",
       "2  2023-03-01  00:00:00.000         2   0  \n",
       "3  2023-03-01  00:00:00.000         2   0  \n",
       "4  2023-03-01  01:00:00.000         2   0  "
      ]
     },
     "execution_count": 34,
     "metadata": {},
     "output_type": "execute_result"
    }
   ],
   "source": [
    "# We inner join the ridership and station dataset based on station complex id\n",
    "ada = pd.merge(ridership,station[['station_complex_id','ada']], on='station_complex_id', how='inner')\n",
    "ada.head(5)"
   ]
  },
  {
   "cell_type": "code",
   "execution_count": 35,
   "id": "354976f6-4fde-4d9b-aa12-422c2a3e4d48",
   "metadata": {
    "tags": []
   },
   "outputs": [
    {
     "data": {
      "text/plain": [
       "Collection(Database(MongoClient(host=['localhost:27017'], document_class=dict, tz_aware=False, connect=True), 'Term'), 'test_collection')"
      ]
     },
     "execution_count": 35,
     "metadata": {},
     "output_type": "execute_result"
    }
   ],
   "source": [
    "#We create a new database for this merged dataset on MongoDB\n",
    "client2 = MongoClient('localhost',27017)\n",
    "dbb2 = client2.Term\n",
    "collection2 = dbb2.test_collection\n",
    "collection2"
   ]
  },
  {
   "cell_type": "code",
   "execution_count": 36,
   "id": "00ce611f-89be-4d13-ab5b-8e6cfadbc593",
   "metadata": {
    "tags": []
   },
   "outputs": [
    {
     "name": "stdout",
     "output_type": "stream",
     "text": [
      "2392692 documents inserted into MongoDB successfully.\n"
     ]
    }
   ],
   "source": [
    "#We load the dataset onto MongoDB\n",
    "ada_json = ada.to_json(orient='records')\n",
    "ada_json = json.loads(ada_json)\n",
    "collection2 = dbb2.ada_json\n",
    "collection2.insert_many(ada_json)\n",
    "\n",
    "print(f\"{len(ada_json)} documents inserted into MongoDB successfully.\")"
   ]
  },
  {
   "cell_type": "code",
   "execution_count": 63,
   "id": "b7d66577-c151-4765-bfda-2e9868e5fd09",
   "metadata": {
    "tags": []
   },
   "outputs": [
    {
     "name": "stdout",
     "output_type": "stream",
     "text": [
      "Number of Senior Swipes by Borough\n",
      "{'ridership': 231294, 'borough': 'Brooklyn'}\n",
      "{'ridership': 224574, 'borough': 'Manhattan'}\n",
      "{'ridership': 99057, 'borough': 'Queens'}\n",
      "{'ridership': 85302, 'borough': 'Bronx'}\n",
      "{'ridership': 591, 'borough': 'Staten Island'}\n"
     ]
    }
   ],
   "source": [
    "q1 = [\n",
    "    # Match documents where 'ada' field contains '0' (indicating no ADA accessibility)\n",
    "    {\"$match\": {\"ada\": {\"$regex\": '0'}}},\n",
    "    # Match documents where the swipe is only by Seniors\n",
    "    {\"$match\": {\"fare_class_category\": {\"$regex\": 'Seniors'}}},\n",
    "    # Group documents by 'borough' and calculate the sum of swipes for each group\n",
    "    {\"$group\": {\"_id\": \"$borough\", \"ridership\": {\"$sum\": 1}}},\n",
    "    # Project the 'borough' and 'ridership' fields\n",
    "    {\"$project\": {\"borough\": \"$_id\", \"ridership\": 1, \"_id\": 0}},\n",
    "    # Sort by ridership in descending order\n",
    "    {\"$sort\": {\"ridership\": -1}}\n",
    "]\n",
    "\n",
    "f1 = collection2.aggregate(q1)\n",
    "\n",
    "# Print the results\n",
    "print(\"Number of Senior Swipes by Borough\")\n",
    "for result in f1:\n",
    "    print(result)"
   ]
  },
  {
   "cell_type": "code",
   "execution_count": 38,
   "id": "0ff80578-dc4d-4281-9c5d-1e05ce6dfb66",
   "metadata": {
    "tags": []
   },
   "outputs": [
    {
     "name": "stdout",
     "output_type": "stream",
     "text": [
      "Number of Swipes by Seniors/Disabilities in Stations that do not have Elevators or Ramps\n",
      "{'ridership': 10503, 'station_complex': '14 St (F,M,1,2,3)/6 Av (L)'}\n",
      "{'ridership': 9180, 'station_complex': 'Canal St (J,N,Q,R,W,Z,6)'}\n",
      "{'ridership': 6792, 'station_complex': 'Lexington Av (N,R,W)/59 St (4,5,6)'}\n",
      "{'ridership': 6276, 'station_complex': 'Bryant Pk (B,D,F,M)/5 Av (7)'}\n",
      "{'ridership': 6060, 'station_complex': 'Chambers St (A,C)/WTC (E)/Park Pl (2,3)/Cortlandt (R,W)'}\n",
      "{'ridership': 6036, 'station_complex': 'Delancey St (F)/Essex St (J,M,Z)'}\n",
      "{'ridership': 5958, 'station_complex': 'Broadway Junction (A,C,J,L,Z)'}\n",
      "{'ridership': 5268, 'station_complex': '145 St (A,C,B,D)'}\n",
      "{'ridership': 5088, 'station_complex': '4 Av (F,G)/9 St (R)'}\n",
      "{'ridership': 4704, 'station_complex': 'Franklin Av (2,3,4,5)/Botanic Garden (S)'}\n"
     ]
    }
   ],
   "source": [
    "q2 = [\n",
    "    # Match documents where 'ada' field contains '0' (indicating no ADA accessibility)\n",
    "    {\"$match\": {\"ada\": {\"$regex\": '0'}}},\n",
    "    # Match documents where the swipe is only by Seniors\n",
    "    {\"$match\": {\"fare_class_category\": {\"$regex\": 'Seniors'}}},\n",
    "    # Group documents by 'station_complex' and calculate the sum of swipes for each group\n",
    "    {\"$group\": {\"_id\": \"$station_complex\", \"ridership\": {\"$sum\": 1}}},\n",
    "    # Project the 'station_complex' and 'ridership' fields, and exclude the '_id' field\n",
    "    {\"$project\": {\"station_complex\": \"$_id\", \"ridership\": 1, \"_id\": 0}},\n",
    "    # Sort by ridership in descending order\n",
    "    {\"$sort\": {\"ridership\": -1}}\n",
    "]\n",
    "\n",
    "f2 = collection2.aggregate(q2)\n",
    "\n",
    "# Initialize a count variable to get top 10\n",
    "count = 0\n",
    "\n",
    "# Print the results\n",
    "print(\"Number of Swipes by Seniors/Disabilities in Stations that do not have Elevators or Ramps\")\n",
    "for result in f2:\n",
    "    # Print up to the first 10 results\n",
    "    if count < 10:\n",
    "        print(result)\n",
    "        count += 1\n",
    "    else:\n",
    "        break"
   ]
  },
  {
   "cell_type": "markdown",
   "id": "a8c15f25-8175-4602-a81f-393e4a20d2c9",
   "metadata": {},
   "source": [
    "#### Q3: Which Train Lines perform the best?"
   ]
  },
  {
   "cell_type": "markdown",
   "id": "c0046088-9925-43b1-bdb5-62234c186b47",
   "metadata": {},
   "source": [
    "This portion uses PySpark to merge and access delays and incidents. The on_time_performance for each line gives us an understanding of which subway lines need improvement."
   ]
  },
  {
   "cell_type": "code",
   "execution_count": 39,
   "id": "f5cf8bfe-a147-4560-94b8-9863b482c21f",
   "metadata": {
    "tags": []
   },
   "outputs": [
    {
     "name": "stderr",
     "output_type": "stream",
     "text": [
      "24/04/17 11:21:16 WARN Utils: Your hostname, Isais-MacBook-Pro.local resolves to a loopback address: 127.0.0.1; using 10.206.37.35 instead (on interface en0)\n",
      "24/04/17 11:21:16 WARN Utils: Set SPARK_LOCAL_IP if you need to bind to another address\n",
      "Setting default log level to \"WARN\".\n",
      "To adjust logging level use sc.setLogLevel(newLevel). For SparkR, use setLogLevel(newLevel).\n",
      "24/04/17 11:21:17 WARN NativeCodeLoader: Unable to load native-hadoop library for your platform... using builtin-java classes where applicable\n"
     ]
    },
    {
     "name": "stdout",
     "output_type": "stream",
     "text": [
      "Using Apache Spark Version 3.5.1\n"
     ]
    }
   ],
   "source": [
    "# We import pyspark and its functions. We then start a SparkSession.\n",
    "import os\n",
    "import sys\n",
    "os.environ['PYSPARK_PYTHON'] = sys.executable\n",
    "os.environ['PYSPARK_DRIVER_PYTHON'] = sys.executable\n",
    "\n",
    "from pyspark.sql import SparkSession\n",
    "from pyspark import SparkContext, SparkConf\n",
    "from pyspark.sql import SQLContext\n",
    "from pyspark.sql.types import IntegerType, DateType, StringType, StructType\n",
    "import pyspark.sql.functions as F\n",
    "\n",
    "spark = SparkSession.builder.getOrCreate()\n",
    "sc = spark.sparkContext\n",
    "\n",
    "print(\"Using Apache Spark Version\", spark.version)"
   ]
  },
  {
   "cell_type": "code",
   "execution_count": 40,
   "id": "3c316f28-643d-49c8-b9ae-a4f1bf0d507b",
   "metadata": {
    "tags": []
   },
   "outputs": [
    {
     "data": {
      "text/html": [
       "<div>\n",
       "<style scoped>\n",
       "    .dataframe tbody tr th:only-of-type {\n",
       "        vertical-align: middle;\n",
       "    }\n",
       "\n",
       "    .dataframe tbody tr th {\n",
       "        vertical-align: top;\n",
       "    }\n",
       "\n",
       "    .dataframe thead th {\n",
       "        text-align: right;\n",
       "    }\n",
       "</style>\n",
       "<table border=\"1\" class=\"dataframe\">\n",
       "  <thead>\n",
       "    <tr style=\"text-align: right;\">\n",
       "      <th></th>\n",
       "      <th>month</th>\n",
       "      <th>division</th>\n",
       "      <th>line</th>\n",
       "      <th>day_type</th>\n",
       "      <th>num_on_time_trips</th>\n",
       "      <th>num_sched_trips</th>\n",
       "      <th>terminal_on_time_performance</th>\n",
       "    </tr>\n",
       "  </thead>\n",
       "  <tbody>\n",
       "    <tr>\n",
       "      <th>0</th>\n",
       "      <td>2024-02</td>\n",
       "      <td>A DIVISION</td>\n",
       "      <td>1</td>\n",
       "      <td>1</td>\n",
       "      <td>7433</td>\n",
       "      <td>9176</td>\n",
       "      <td>0.8100</td>\n",
       "    </tr>\n",
       "    <tr>\n",
       "      <th>1</th>\n",
       "      <td>2024-02</td>\n",
       "      <td>A DIVISION</td>\n",
       "      <td>1</td>\n",
       "      <td>2</td>\n",
       "      <td>2650</td>\n",
       "      <td>3492</td>\n",
       "      <td>0.7589</td>\n",
       "    </tr>\n",
       "    <tr>\n",
       "      <th>2</th>\n",
       "      <td>2024-02</td>\n",
       "      <td>A DIVISION</td>\n",
       "      <td>2</td>\n",
       "      <td>1</td>\n",
       "      <td>4687</td>\n",
       "      <td>6534</td>\n",
       "      <td>0.7173</td>\n",
       "    </tr>\n",
       "    <tr>\n",
       "      <th>3</th>\n",
       "      <td>2024-02</td>\n",
       "      <td>A DIVISION</td>\n",
       "      <td>2</td>\n",
       "      <td>2</td>\n",
       "      <td>653</td>\n",
       "      <td>2106</td>\n",
       "      <td>0.3101</td>\n",
       "    </tr>\n",
       "    <tr>\n",
       "      <th>4</th>\n",
       "      <td>2024-02</td>\n",
       "      <td>A DIVISION</td>\n",
       "      <td>3</td>\n",
       "      <td>2</td>\n",
       "      <td>648</td>\n",
       "      <td>1050</td>\n",
       "      <td>0.6171</td>\n",
       "    </tr>\n",
       "    <tr>\n",
       "      <th>...</th>\n",
       "      <td>...</td>\n",
       "      <td>...</td>\n",
       "      <td>...</td>\n",
       "      <td>...</td>\n",
       "      <td>...</td>\n",
       "      <td>...</td>\n",
       "      <td>...</td>\n",
       "    </tr>\n",
       "    <tr>\n",
       "      <th>2331</th>\n",
       "      <td>2020-01</td>\n",
       "      <td>B DIVISION</td>\n",
       "      <td>S Fkln</td>\n",
       "      <td>2</td>\n",
       "      <td>1889</td>\n",
       "      <td>1894</td>\n",
       "      <td>0.9974</td>\n",
       "    </tr>\n",
       "    <tr>\n",
       "      <th>2332</th>\n",
       "      <td>2020-01</td>\n",
       "      <td>B DIVISION</td>\n",
       "      <td>S Rock</td>\n",
       "      <td>1</td>\n",
       "      <td>3596</td>\n",
       "      <td>3696</td>\n",
       "      <td>0.9729</td>\n",
       "    </tr>\n",
       "    <tr>\n",
       "      <th>2333</th>\n",
       "      <td>2020-01</td>\n",
       "      <td>B DIVISION</td>\n",
       "      <td>S Rock</td>\n",
       "      <td>2</td>\n",
       "      <td>1360</td>\n",
       "      <td>1395</td>\n",
       "      <td>0.9749</td>\n",
       "    </tr>\n",
       "    <tr>\n",
       "      <th>2334</th>\n",
       "      <td>2020-01</td>\n",
       "      <td>Systemwide</td>\n",
       "      <td>Systemwide</td>\n",
       "      <td>1</td>\n",
       "      <td>150643</td>\n",
       "      <td>180963</td>\n",
       "      <td>0.8325</td>\n",
       "    </tr>\n",
       "    <tr>\n",
       "      <th>2335</th>\n",
       "      <td>2020-01</td>\n",
       "      <td>Systemwide</td>\n",
       "      <td>Systemwide</td>\n",
       "      <td>2</td>\n",
       "      <td>42056</td>\n",
       "      <td>48910</td>\n",
       "      <td>0.8599</td>\n",
       "    </tr>\n",
       "  </tbody>\n",
       "</table>\n",
       "<p>2336 rows × 7 columns</p>\n",
       "</div>"
      ],
      "text/plain": [
       "        month    division        line day_type num_on_time_trips  \\\n",
       "0     2024-02  A DIVISION           1        1              7433   \n",
       "1     2024-02  A DIVISION           1        2              2650   \n",
       "2     2024-02  A DIVISION           2        1              4687   \n",
       "3     2024-02  A DIVISION           2        2               653   \n",
       "4     2024-02  A DIVISION           3        2               648   \n",
       "...       ...         ...         ...      ...               ...   \n",
       "2331  2020-01  B DIVISION      S Fkln        2              1889   \n",
       "2332  2020-01  B DIVISION      S Rock        1              3596   \n",
       "2333  2020-01  B DIVISION      S Rock        2              1360   \n",
       "2334  2020-01  Systemwide  Systemwide        1            150643   \n",
       "2335  2020-01  Systemwide  Systemwide        2             42056   \n",
       "\n",
       "     num_sched_trips  terminal_on_time_performance  \n",
       "0               9176                        0.8100  \n",
       "1               3492                        0.7589  \n",
       "2               6534                        0.7173  \n",
       "3               2106                        0.3101  \n",
       "4               1050                        0.6171  \n",
       "...              ...                           ...  \n",
       "2331            1894                        0.9974  \n",
       "2332            3696                        0.9729  \n",
       "2333            1395                        0.9749  \n",
       "2334          180963                        0.8325  \n",
       "2335           48910                        0.8599  \n",
       "\n",
       "[2336 rows x 7 columns]"
      ]
     },
     "execution_count": 40,
     "metadata": {},
     "output_type": "execute_result"
    }
   ],
   "source": [
    "# Get the specified API ID to import the Subway Performance Dataset, convert to PD\n",
    "delay = client.get(\"vtvh-gimj\",limit = 3000)\n",
    "delay = pd.DataFrame.from_records(delay)\n",
    "#Convert performance into float, round to 4 decimals\n",
    "delay['terminal_on_time_performance'] = delay['terminal_on_time_performance'].astype(float)\n",
    "delay['terminal_on_time_performance'] = delay['terminal_on_time_performance'].round(4)\n",
    "delay"
   ]
  },
  {
   "cell_type": "code",
   "execution_count": 41,
   "id": "c024127a-1a7d-4571-b874-c1915c2ede65",
   "metadata": {},
   "outputs": [
    {
     "data": {
      "text/html": [
       "<div>\n",
       "<style scoped>\n",
       "    .dataframe tbody tr th:only-of-type {\n",
       "        vertical-align: middle;\n",
       "    }\n",
       "\n",
       "    .dataframe tbody tr th {\n",
       "        vertical-align: top;\n",
       "    }\n",
       "\n",
       "    .dataframe thead th {\n",
       "        text-align: right;\n",
       "    }\n",
       "</style>\n",
       "<table border=\"1\" class=\"dataframe\">\n",
       "  <thead>\n",
       "    <tr style=\"text-align: right;\">\n",
       "      <th></th>\n",
       "      <th>month</th>\n",
       "      <th>division</th>\n",
       "      <th>line</th>\n",
       "      <th>day_type</th>\n",
       "      <th>category</th>\n",
       "      <th>count</th>\n",
       "    </tr>\n",
       "  </thead>\n",
       "  <tbody>\n",
       "    <tr>\n",
       "      <th>0</th>\n",
       "      <td>2024-02</td>\n",
       "      <td>A DIVISION</td>\n",
       "      <td>1</td>\n",
       "      <td>1</td>\n",
       "      <td>Other</td>\n",
       "      <td>1</td>\n",
       "    </tr>\n",
       "    <tr>\n",
       "      <th>1</th>\n",
       "      <td>2024-02</td>\n",
       "      <td>A DIVISION</td>\n",
       "      <td>1</td>\n",
       "      <td>2</td>\n",
       "      <td>Subway Car</td>\n",
       "      <td>1</td>\n",
       "    </tr>\n",
       "    <tr>\n",
       "      <th>2</th>\n",
       "      <td>2024-02</td>\n",
       "      <td>A DIVISION</td>\n",
       "      <td>2</td>\n",
       "      <td>1</td>\n",
       "      <td>Persons on Trackbed/Police/Medical</td>\n",
       "      <td>1</td>\n",
       "    </tr>\n",
       "    <tr>\n",
       "      <th>3</th>\n",
       "      <td>2024-02</td>\n",
       "      <td>A DIVISION</td>\n",
       "      <td>2</td>\n",
       "      <td>1</td>\n",
       "      <td>Track</td>\n",
       "      <td>1</td>\n",
       "    </tr>\n",
       "    <tr>\n",
       "      <th>4</th>\n",
       "      <td>2024-02</td>\n",
       "      <td>A DIVISION</td>\n",
       "      <td>2</td>\n",
       "      <td>1</td>\n",
       "      <td>Signals</td>\n",
       "      <td>1</td>\n",
       "    </tr>\n",
       "    <tr>\n",
       "      <th>...</th>\n",
       "      <td>...</td>\n",
       "      <td>...</td>\n",
       "      <td>...</td>\n",
       "      <td>...</td>\n",
       "      <td>...</td>\n",
       "      <td>...</td>\n",
       "    </tr>\n",
       "    <tr>\n",
       "      <th>1984</th>\n",
       "      <td>2020-01</td>\n",
       "      <td>Systemwide</td>\n",
       "      <td>Systemwide</td>\n",
       "      <td>1</td>\n",
       "      <td>Subway Car</td>\n",
       "      <td>2</td>\n",
       "    </tr>\n",
       "    <tr>\n",
       "      <th>1985</th>\n",
       "      <td>2020-01</td>\n",
       "      <td>Systemwide</td>\n",
       "      <td>Systemwide</td>\n",
       "      <td>1</td>\n",
       "      <td>Track</td>\n",
       "      <td>4</td>\n",
       "    </tr>\n",
       "    <tr>\n",
       "      <th>1986</th>\n",
       "      <td>2020-01</td>\n",
       "      <td>Systemwide</td>\n",
       "      <td>Systemwide</td>\n",
       "      <td>2</td>\n",
       "      <td>Other</td>\n",
       "      <td>3</td>\n",
       "    </tr>\n",
       "    <tr>\n",
       "      <th>1987</th>\n",
       "      <td>2020-01</td>\n",
       "      <td>Systemwide</td>\n",
       "      <td>Systemwide</td>\n",
       "      <td>1</td>\n",
       "      <td>Other</td>\n",
       "      <td>5</td>\n",
       "    </tr>\n",
       "    <tr>\n",
       "      <th>1988</th>\n",
       "      <td>2020-01</td>\n",
       "      <td>Systemwide</td>\n",
       "      <td>Systemwide</td>\n",
       "      <td>2</td>\n",
       "      <td>Persons on Trackbed/Police/Medical</td>\n",
       "      <td>2</td>\n",
       "    </tr>\n",
       "  </tbody>\n",
       "</table>\n",
       "<p>1989 rows × 6 columns</p>\n",
       "</div>"
      ],
      "text/plain": [
       "        month    division        line day_type  \\\n",
       "0     2024-02  A DIVISION           1        1   \n",
       "1     2024-02  A DIVISION           1        2   \n",
       "2     2024-02  A DIVISION           2        1   \n",
       "3     2024-02  A DIVISION           2        1   \n",
       "4     2024-02  A DIVISION           2        1   \n",
       "...       ...         ...         ...      ...   \n",
       "1984  2020-01  Systemwide  Systemwide        1   \n",
       "1985  2020-01  Systemwide  Systemwide        1   \n",
       "1986  2020-01  Systemwide  Systemwide        2   \n",
       "1987  2020-01  Systemwide  Systemwide        1   \n",
       "1988  2020-01  Systemwide  Systemwide        2   \n",
       "\n",
       "                                category count  \n",
       "0                                  Other     1  \n",
       "1                             Subway Car     1  \n",
       "2     Persons on Trackbed/Police/Medical     1  \n",
       "3                                  Track     1  \n",
       "4                                Signals     1  \n",
       "...                                  ...   ...  \n",
       "1984                          Subway Car     2  \n",
       "1985                               Track     4  \n",
       "1986                               Other     3  \n",
       "1987                               Other     5  \n",
       "1988  Persons on Trackbed/Police/Medical     2  \n",
       "\n",
       "[1989 rows x 6 columns]"
      ]
     },
     "execution_count": 41,
     "metadata": {},
     "output_type": "execute_result"
    }
   ],
   "source": [
    "# Get the specified API ID to import the NYC Subway incidents Dataset, convert to PD\n",
    "incidents = client.get(\"j6d2-s8m2\", limit=2000)\n",
    "incidents = pd.DataFrame.from_records(incidents)\n",
    "incidents"
   ]
  },
  {
   "cell_type": "code",
   "execution_count": 42,
   "id": "845a5fb1-b0db-4bb9-8f8f-e84c4a7bf4c9",
   "metadata": {
    "tags": []
   },
   "outputs": [
    {
     "data": {
      "text/plain": [
       "array(['Other', 'Subway Car', 'Persons on Trackbed/Police/Medical',\n",
       "       'Track', 'Signals', 'Stations and Structure'], dtype=object)"
      ]
     },
     "execution_count": 42,
     "metadata": {},
     "output_type": "execute_result"
    }
   ],
   "source": [
    "# Checking to see which are the different categories\n",
    "incidents.category.unique()"
   ]
  },
  {
   "cell_type": "code",
   "execution_count": 43,
   "id": "f5fbb276-11a5-4951-ae9a-63620b3a3b33",
   "metadata": {
    "tags": []
   },
   "outputs": [],
   "source": [
    "# Create Spark DF from the delay and incidents datasets\n",
    "delay_spark = spark.createDataFrame(delay)\n",
    "incidents_spark = spark.createDataFrame(incidents)\n",
    "\n",
    "# Join the delay and incidents DataFrames on common columns\n",
    "delay_inc = delay_spark.join(incidents_spark, on=[\"month\", \"division\", \"line\", \"day_type\"], how=\"inner\")"
   ]
  },
  {
   "cell_type": "code",
   "execution_count": 44,
   "id": "b0daa6fa-9431-425c-b6aa-eb2ad9ac1ebf",
   "metadata": {
    "tags": []
   },
   "outputs": [
    {
     "name": "stderr",
     "output_type": "stream",
     "text": [
      "                                                                                \r"
     ]
    },
    {
     "name": "stdout",
     "output_type": "stream",
     "text": [
      "+--------------------+-----+\n",
      "|            category|count|\n",
      "+--------------------+-----+\n",
      "|               Track|  313|\n",
      "|          Subway Car|  220|\n",
      "|             Signals|  501|\n",
      "|Persons on Trackb...|  555|\n",
      "|               Other|  210|\n",
      "|Stations and Stru...|  189|\n",
      "+--------------------+-----+\n",
      "\n"
     ]
    }
   ],
   "source": [
    "# Show the total count for each incidental category\n",
    "incident_counts = delay_inc.groupBy(\"category\").count()\n",
    "incident_counts.show()"
   ]
  },
  {
   "cell_type": "markdown",
   "id": "b8ed9eda-1147-4279-888f-722d869cc312",
   "metadata": {},
   "source": [
    "This shows the Ontime ratings and Safety Performance. Please note it is the same metric."
   ]
  },
  {
   "cell_type": "code",
   "execution_count": 48,
   "id": "e7041805-b5b5-416f-a342-987965921589",
   "metadata": {
    "tags": []
   },
   "outputs": [
    {
     "name": "stdout",
     "output_type": "stream",
     "text": [
      "Average Ontime Rating by each Incident\n"
     ]
    },
    {
     "name": "stderr",
     "output_type": "stream",
     "text": [
      "[Stage 32:>                                                       (0 + 16) / 16]\r"
     ]
    },
    {
     "name": "stdout",
     "output_type": "stream",
     "text": [
      "+--------------------+-------------------+\n",
      "|            category|average_performance|\n",
      "+--------------------+-------------------+\n",
      "|          Subway Car|             0.8083|\n",
      "|               Other|             0.8069|\n",
      "|Persons on Trackb...|             0.8061|\n",
      "|             Signals|             0.8048|\n",
      "|Stations and Stru...|             0.7993|\n",
      "|               Track|             0.7945|\n",
      "+--------------------+-------------------+\n",
      "\n"
     ]
    },
    {
     "name": "stderr",
     "output_type": "stream",
     "text": [
      "                                                                                \r"
     ]
    }
   ],
   "source": [
    "# Group delay incidents by category and calculate the average performance\n",
    "incident_performance = delay_inc.groupBy(\"category\") \\\n",
    "    .agg(F.avg(\"terminal_on_time_performance\").alias(\"average_performance\"))\n",
    "\n",
    "# Round the average_performance column to 4 decimal places using F\n",
    "incident_performance = incident_performance.withColumn(\"average_performance\", F.round(\"average_performance\", 4))\n",
    "\n",
    "# Print the average on-time rating by each incident category in descending order\n",
    "print(\"Average On-time Rating by each Incident\")\n",
    "incident_performance.orderBy(F.desc(\"average_performance\")).show()"
   ]
  },
  {
   "cell_type": "code",
   "execution_count": 50,
   "id": "89e943ae-4c43-40f2-882a-c610e1826e1d",
   "metadata": {
    "tags": []
   },
   "outputs": [
    {
     "name": "stdout",
     "output_type": "stream",
     "text": [
      "Average Ontime Rating by Subway Line\n",
      "(Excluding 'Persons on Trackbed' and 'Other' Categories as well as Shuttles and Systemwide incidents)\n"
     ]
    },
    {
     "name": "stderr",
     "output_type": "stream",
     "text": [
      "                                                                                \r"
     ]
    },
    {
     "name": "stdout",
     "output_type": "stream",
     "text": [
      "+----+-------------------+\n",
      "|line|average_performance|\n",
      "+----+-------------------+\n",
      "|   L|             0.9139|\n",
      "|   7|             0.9029|\n",
      "|   G|             0.8804|\n",
      "|  JZ|             0.8491|\n",
      "|   1|             0.8418|\n",
      "|   3|             0.8342|\n",
      "|   5|             0.8277|\n",
      "|   6|             0.8239|\n",
      "|   M|              0.822|\n",
      "|   4|             0.8208|\n",
      "|   R|             0.8053|\n",
      "|   Q|             0.7561|\n",
      "|   D|              0.755|\n",
      "|   E|              0.749|\n",
      "|   2|             0.7485|\n",
      "|   N|             0.7429|\n",
      "|   B|             0.7302|\n",
      "|   C|             0.7293|\n",
      "|   A|             0.7228|\n",
      "|   F|             0.7099|\n",
      "+----+-------------------+\n",
      "\n",
      "J and Z lines runs on the same line, have the same stops and terminal stations\n"
     ]
    }
   ],
   "source": [
    "# Filter delay incidents by excluding \"Persons\" and \"Other\" categories, as well as Shuttles\n",
    "average_performance_by_line = delay_inc \\\n",
    "    .where(~(F.col(\"category\").isin([\"Persons\", \"Other\"]))) \\\n",
    "    .where(~(F.col(\"line\").isin([\"S 42nd\", \"S Fkln\",\"Systemwide\"]))) \\\n",
    "    .groupBy(\"line\") \\\n",
    "    .agg(F.avg(\"terminal_on_time_performance\").alias(\"average_performance\")) \\\n",
    "    .orderBy(F.desc(\"average_performance\"))\n",
    "\n",
    "# Round the average_performance column to 4 decimal places\n",
    "average_performance_by_line = average_performance_by_line.withColumn(\"average_performance\", F.round(\"average_performance\", 4))\n",
    "\n",
    "# Print the average on-time rating by subway line, excluding Shuttles\n",
    "print(\"Average On-time Rating by Subway Line\")\n",
    "print(\"(Excluding 'Persons on Trackbed' and 'Other' Categories as well as Shuttles and Systemwide incidents)\")\n",
    "average_performance_by_line.orderBy(F.desc(\"average_performance\")).show()\n",
    "print(\"J and Z lines run on the same line, have the same stops and terminal stations\")\n"
   ]
  },
  {
   "cell_type": "code",
   "execution_count": 54,
   "id": "91f556eb-03b7-4201-8ebc-93d184bb603e",
   "metadata": {},
   "outputs": [
    {
     "name": "stdout",
     "output_type": "stream",
     "text": [
      "Worst Safety Rating by Subway Line\n",
      "(Only Includes 'Persons on Trackbed'. Excludes Shuttles and Systemwide incidents)\n",
      "+----+--------------+\n",
      "|line|average_safety|\n",
      "+----+--------------+\n",
      "|   F|         0.706|\n",
      "|   A|        0.7122|\n",
      "|   N|        0.7346|\n",
      "|   B|        0.7355|\n",
      "|   C|        0.7498|\n",
      "|   2|        0.7559|\n",
      "|   E|        0.7605|\n",
      "|   D|        0.7659|\n",
      "|   Q|         0.766|\n",
      "|   R|        0.8116|\n",
      "+----+--------------+\n",
      "\n",
      "J and Z lines runs on the same line, have the same stops and terminal stations\n"
     ]
    }
   ],
   "source": [
    "# Filter delay incidents by \"Persons on Trackbed/Police/Medical\" category and exclude Shuttles\n",
    "average_performance_person = delay_inc \\\n",
    "    .where(F.col(\"category\") == \"Persons on Trackbed/Police/Medical\") \\\n",
    "    .where(~(F.col(\"line\").isin([\"S 42nd\", \"S Fkln\",\"Systemwide\"]))) \\\n",
    "    .groupBy(\"line\") \\\n",
    "    .agg(F.avg(\"terminal_on_time_performance\").alias(\"average_safety\")) \\\n",
    "    .orderBy(F.asc(\"average_safety\")) \\\n",
    "    .limit(10)\n",
    "\n",
    "# Round the average_safety column to 4 decimal places\n",
    "average_performance_person = average_performance_person.withColumn(\"average_safety\", F.round(\"average_safety\", 4))\n",
    "\n",
    "# Print the Top 10 worst safety rating by subway line, including only \"Persons on Trackbed\" category and excluding Shuttles\n",
    "print(\"Worst Safety Rating by Subway Line\")\n",
    "print(\"(Only Includes 'Persons on Trackbed'. Excludes Shuttles and Systemwide incidents)\")\n",
    "average_performance_person.orderBy(F.asc(\"average_safety\")).show()\n",
    "print(\"Ontime Performance is used to judge how less safe a train line.\")\n",
    "print(\"The lower the performance, the more likely incidents occur.\")"
   ]
  },
  {
   "cell_type": "code",
   "execution_count": 60,
   "id": "72d28704-755c-4238-b7a3-9877087e3985",
   "metadata": {
    "tags": []
   },
   "outputs": [
    {
     "name": "stderr",
     "output_type": "stream",
     "text": [
      "                                                                                \r"
     ]
    },
    {
     "name": "stdout",
     "output_type": "stream",
     "text": [
      "Average On-time Rating by Subway Line by Day Type\n",
      "(Excluding 'Persons on Trackbed' and 'Other' Categories as well as Shuttles and Systemwide incidents)\n",
      "+----+-------+-------+\n",
      "|line|weekday|weekend|\n",
      "+----+-------+-------+\n",
      "|   L| 0.9134|  0.915|\n",
      "|   7| 0.9056| 0.8753|\n",
      "|   G| 0.8694| 0.8937|\n",
      "|   3| 0.8587| 0.7457|\n",
      "|  JZ| 0.8561| 0.8247|\n",
      "|   1| 0.8395| 0.8525|\n",
      "|   4| 0.8325| 0.7686|\n",
      "|   5|  0.829| 0.7269|\n",
      "|   6| 0.8238| 0.8239|\n",
      "|   M| 0.8188| 0.8796|\n",
      "|   R| 0.7998| 0.8346|\n",
      "|   2| 0.7667| 0.6329|\n",
      "|   Q|  0.766| 0.7147|\n",
      "|   C| 0.7648| 0.6481|\n",
      "|   N|  0.747| 0.7074|\n",
      "|   D|  0.747| 0.7889|\n",
      "|   E| 0.7432| 0.8139|\n",
      "|   B| 0.7302|   NULL|\n",
      "|   A| 0.7174| 0.7475|\n",
      "|   F| 0.7084| 0.7291|\n",
      "+----+-------+-------+\n",
      "\n",
      "Note: J and Z lines run on the same line, have the same stops and terminal stations\n",
      "Note: B trains only run on Weekdays 6AM - 12AM\n"
     ]
    }
   ],
   "source": [
    "# Filter delay incidents excluding \"Persons\" and \"Other\" categories and Shuttles\n",
    "average_performance = delay_inc \\\n",
    "    .where(~(F.col(\"category\").isin([\"Persons\", \"Other\"]))) \\\n",
    "    .where(~(F.col(\"line\").isin([\"S 42nd\", \"S Fkln\", \"Systemwide\"]))) \\\n",
    "    .groupBy(\"line\") \\\n",
    "    .pivot(\"day_type\") \\\n",
    "    .agg(F.avg(\"terminal_on_time_performance\")) \\\n",
    "    .withColumnRenamed(\"1\", \"weekday\") \\\n",
    "    .withColumnRenamed(\"2\", \"weekend\") \\\n",
    "    .orderBy(F.desc(\"weekday\"))\n",
    "\n",
    "# Round the weekday and weekend columns to 4 decimal places\n",
    "average_performance = average_performance \\\n",
    "    .withColumn(\"weekday\", F.round(\"weekday\", 4)) \\\n",
    "    .withColumn(\"weekend\", F.round(\"weekend\", 4))\n",
    "\n",
    "# Print the average on-time rating by subway line by day type\n",
    "print(\"Average On-time Rating by Subway Line by Day Type\")\n",
    "print(\"(Excluding 'Persons on Trackbed' and 'Other' Categories as well as Shuttles and Systemwide incidents)\")\n",
    "average_performance.show()\n",
    "print(\"Note: J and Z lines run on the same line, have the same stops and terminal stations\")\n",
    "print(\"Note: B trains only run on Weekdays 6AM - 12AM\")"
   ]
  },
  {
   "cell_type": "code",
   "execution_count": 61,
   "id": "73c48b9e-c3fb-49f6-8131-315b7f79b713",
   "metadata": {},
   "outputs": [
    {
     "name": "stderr",
     "output_type": "stream",
     "text": [
      "                                                                                \r"
     ]
    },
    {
     "name": "stdout",
     "output_type": "stream",
     "text": [
      "Worst Safety Rating by Subway Line by Day Type\n",
      "(Only Includes 'Persons on Trackbed'. Excludes Shuttles and Systemwide incidents)\n"
     ]
    },
    {
     "name": "stderr",
     "output_type": "stream",
     "text": [
      "                                                                                \r"
     ]
    },
    {
     "name": "stdout",
     "output_type": "stream",
     "text": [
      "+----+-------+-------+\n",
      "|line|weekday|weekend|\n",
      "+----+-------+-------+\n",
      "|   A| 0.7033| 0.7344|\n",
      "|   F|  0.706| 0.7061|\n",
      "|   B| 0.7355|   NULL|\n",
      "|   N| 0.7377| 0.7123|\n",
      "|   E| 0.7542| 0.8396|\n",
      "|   D| 0.7603| 0.8023|\n",
      "|   2| 0.7708| 0.6724|\n",
      "|   Q| 0.7775| 0.7338|\n",
      "|   C| 0.7859| 0.6415|\n",
      "|   R| 0.8039| 0.8345|\n",
      "+----+-------+-------+\n",
      "\n",
      "Note: J and Z lines run on the same line, have the same stops and terminal stations\n",
      "Note: B trains do not run on Weekdays 9:30PM - 6AM and on Weekends\n"
     ]
    }
   ],
   "source": [
    "# Filter delay incidents for \"Persons on Trackbed/Police/Medical\" category and exclude Shuttles\n",
    "average_performance = delay_inc \\\n",
    "    .where(F.col(\"category\") == \"Persons on Trackbed/Police/Medical\") \\\n",
    "    .where(~(F.col(\"line\").isin([\"S 42nd\", \"S Fkln\", \"Systemwide\"]))) \\\n",
    "    .groupBy(\"line\") \\\n",
    "    .pivot(\"day_type\") \\\n",
    "    .agg(F.avg(\"terminal_on_time_performance\")) \\\n",
    "    .withColumnRenamed(\"1\", \"weekday\") \\\n",
    "    .withColumnRenamed(\"2\", \"weekend\") \\\n",
    "    .orderBy(F.asc(\"weekday\")) \\\n",
    "    .limit(10)\n",
    "\n",
    "# Round the weekday and weekend columns to 4 decimal places\n",
    "average_performance = average_performance \\\n",
    "    .withColumn(\"weekday\", F.round(\"weekday\", 4)) \\\n",
    "    .withColumn(\"weekend\", F.round(\"weekend\", 4))\n",
    "\n",
    "# Print the Top 10 worst safety rating by subway line, including only \"Persons on Trackbed\" category and excluding Shuttles\n",
    "print(\"Worst Safety Rating by Subway Line by Day Type\")\n",
    "print(\"(Only Includes 'Persons on Trackbed'. Excludes Shuttles and Systemwide incidents)\")\n",
    "average_performance.show()\n",
    "print(\"Ontime Performance is used to judge how less safe a train line.\")\n",
    "print(\"The lower the performance, the more likely incidents occur.\")\n",
    "print(\"Note: J and Z lines run on the same line, have the same stops and terminal stations\")\n",
    "print(\"Note: B trains do not run on Weekdays 9:30PM - 6AM and on Weekends\")"
   ]
  },
  {
   "cell_type": "code",
   "execution_count": null,
   "id": "6601314e-4257-45f2-af99-0236bf095df7",
   "metadata": {},
   "outputs": [],
   "source": []
  }
 ],
 "metadata": {
  "kernelspec": {
   "display_name": "Python 3 (ipykernel)",
   "language": "python",
   "name": "python3"
  },
  "language_info": {
   "codemirror_mode": {
    "name": "ipython",
    "version": 3
   },
   "file_extension": ".py",
   "mimetype": "text/x-python",
   "name": "python",
   "nbconvert_exporter": "python",
   "pygments_lexer": "ipython3",
   "version": "3.11.5"
  }
 },
 "nbformat": 4,
 "nbformat_minor": 5
}
